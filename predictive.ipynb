{
 "cells": [
  {
   "cell_type": "code",
   "execution_count": 13,
   "metadata": {},
   "outputs": [],
   "source": [
    "import pandas as pd"
   ]
  },
  {
   "cell_type": "code",
   "execution_count": 14,
   "metadata": {},
   "outputs": [],
   "source": [
    "df = pd.read_csv('scraped_products.csv', on_bad_lines='skip')"
   ]
  },
  {
   "cell_type": "code",
   "execution_count": 15,
   "metadata": {},
   "outputs": [
    {
     "data": {
      "text/plain": [
       "Index(['Product Link', 'Image URL', 'Product Name', 'Product Price', 'Rating',\n",
       "       'Number of Ratings', 'Specifications'],\n",
       "      dtype='object')"
      ]
     },
     "execution_count": 15,
     "metadata": {},
     "output_type": "execute_result"
    }
   ],
   "source": [
    "df.columns"
   ]
  },
  {
   "cell_type": "code",
   "execution_count": 16,
   "metadata": {},
   "outputs": [
    {
     "data": {
      "text/html": [
       "<div>\n",
       "<style scoped>\n",
       "    .dataframe tbody tr th:only-of-type {\n",
       "        vertical-align: middle;\n",
       "    }\n",
       "\n",
       "    .dataframe tbody tr th {\n",
       "        vertical-align: top;\n",
       "    }\n",
       "\n",
       "    .dataframe thead th {\n",
       "        text-align: right;\n",
       "    }\n",
       "</style>\n",
       "<table border=\"1\" class=\"dataframe\">\n",
       "  <thead>\n",
       "    <tr style=\"text-align: right;\">\n",
       "      <th></th>\n",
       "      <th>Product Link</th>\n",
       "      <th>Image URL</th>\n",
       "      <th>Product Name</th>\n",
       "      <th>Product Price</th>\n",
       "      <th>Rating</th>\n",
       "      <th>Number of Ratings</th>\n",
       "      <th>Specifications</th>\n",
       "    </tr>\n",
       "  </thead>\n",
       "  <tbody>\n",
       "    <tr>\n",
       "      <th>0</th>\n",
       "      <td>https://www.daraz.com.np/products/3-layer-wind...</td>\n",
       "      <td>https://img.drz.lazcdn.com/static/np/p/e860c64...</td>\n",
       "      <td>3 Layer Windproof Holofill Half Sleeves Winter...</td>\n",
       "      <td>Rs. 693</td>\n",
       "      <td>3.9</td>\n",
       "      <td>725 Ratings</td>\n",
       "      <td>Brand: No Brand; SKU: 109697672_NP-1029711617</td>\n",
       "    </tr>\n",
       "    <tr>\n",
       "      <th>1</th>\n",
       "      <td>https://www.daraz.com.np/products/dell-vostro-...</td>\n",
       "      <td>https://img.drz.lazcdn.com/static/np/p/12f269c...</td>\n",
       "      <td>Dell Vostro 3520 i5 12th Gen | 16GB RAM | 512G...</td>\n",
       "      <td>Rs. 71,999</td>\n",
       "      <td>4.5</td>\n",
       "      <td>24 Ratings</td>\n",
       "      <td>Brand: No Brand; SKU: 129411877_NP-1037407894;...</td>\n",
       "    </tr>\n",
       "    <tr>\n",
       "      <th>2</th>\n",
       "      <td>https://www.daraz.com.np/products/dell-vostro-...</td>\n",
       "      <td>https://img.drz.lazcdn.com/static/np/p/7cbe0fe...</td>\n",
       "      <td>Dell Vostro 3520 i3 12th Gen | 16GB RAM | 512G...</td>\n",
       "      <td>Rs. 55,999</td>\n",
       "      <td>4.8</td>\n",
       "      <td>16 Ratings</td>\n",
       "      <td>Brand: No Brand; SKU: 129017788_NP-1037011250;...</td>\n",
       "    </tr>\n",
       "    <tr>\n",
       "      <th>3</th>\n",
       "      <td>https://www.daraz.com.np/products/dell-vostro-...</td>\n",
       "      <td>https://img.drz.lazcdn.com/static/np/p/8ea221d...</td>\n",
       "      <td>Dell Vostro 3520 I3-12th gen 8GB RAM/512GB SSD...</td>\n",
       "      <td>Rs. 58,000</td>\n",
       "      <td>4.0</td>\n",
       "      <td>24 Ratings</td>\n",
       "      <td>Brand: No Brand; SKU: 118372728_NP-1032434216;...</td>\n",
       "    </tr>\n",
       "    <tr>\n",
       "      <th>4</th>\n",
       "      <td>https://www.daraz.com.np/products/lenovo-v15-c...</td>\n",
       "      <td>https://img.drz.lazcdn.com/static/np/p/da34576...</td>\n",
       "      <td>Lenovo V15 celeron 4GB RAM 256GB SSD,15.6 inch...</td>\n",
       "      <td>Rs. 33,998</td>\n",
       "      <td>4.4</td>\n",
       "      <td>23 Ratings</td>\n",
       "      <td>Brand: No Brand; SKU: 117911554_NP-1032329631;...</td>\n",
       "    </tr>\n",
       "  </tbody>\n",
       "</table>\n",
       "</div>"
      ],
      "text/plain": [
       "                                        Product Link  \\\n",
       "0  https://www.daraz.com.np/products/3-layer-wind...   \n",
       "1  https://www.daraz.com.np/products/dell-vostro-...   \n",
       "2  https://www.daraz.com.np/products/dell-vostro-...   \n",
       "3  https://www.daraz.com.np/products/dell-vostro-...   \n",
       "4  https://www.daraz.com.np/products/lenovo-v15-c...   \n",
       "\n",
       "                                           Image URL  \\\n",
       "0  https://img.drz.lazcdn.com/static/np/p/e860c64...   \n",
       "1  https://img.drz.lazcdn.com/static/np/p/12f269c...   \n",
       "2  https://img.drz.lazcdn.com/static/np/p/7cbe0fe...   \n",
       "3  https://img.drz.lazcdn.com/static/np/p/8ea221d...   \n",
       "4  https://img.drz.lazcdn.com/static/np/p/da34576...   \n",
       "\n",
       "                                        Product Name Product Price  Rating  \\\n",
       "0  3 Layer Windproof Holofill Half Sleeves Winter...       Rs. 693     3.9   \n",
       "1  Dell Vostro 3520 i5 12th Gen | 16GB RAM | 512G...    Rs. 71,999     4.5   \n",
       "2  Dell Vostro 3520 i3 12th Gen | 16GB RAM | 512G...    Rs. 55,999     4.8   \n",
       "3  Dell Vostro 3520 I3-12th gen 8GB RAM/512GB SSD...    Rs. 58,000     4.0   \n",
       "4  Lenovo V15 celeron 4GB RAM 256GB SSD,15.6 inch...    Rs. 33,998     4.4   \n",
       "\n",
       "  Number of Ratings                                     Specifications  \n",
       "0       725 Ratings      Brand: No Brand; SKU: 109697672_NP-1029711617  \n",
       "1        24 Ratings  Brand: No Brand; SKU: 129411877_NP-1037407894;...  \n",
       "2        16 Ratings  Brand: No Brand; SKU: 129017788_NP-1037011250;...  \n",
       "3        24 Ratings  Brand: No Brand; SKU: 118372728_NP-1032434216;...  \n",
       "4        23 Ratings  Brand: No Brand; SKU: 117911554_NP-1032329631;...  "
      ]
     },
     "execution_count": 16,
     "metadata": {},
     "output_type": "execute_result"
    }
   ],
   "source": [
    "df.head()"
   ]
  },
  {
   "cell_type": "code",
   "execution_count": 17,
   "metadata": {},
   "outputs": [
    {
     "data": {
      "text/plain": [
       "Product Link          0\n",
       "Image URL             0\n",
       "Product Name          0\n",
       "Product Price         0\n",
       "Rating                0\n",
       "Number of Ratings     0\n",
       "Specifications       43\n",
       "dtype: int64"
      ]
     },
     "execution_count": 17,
     "metadata": {},
     "output_type": "execute_result"
    }
   ],
   "source": [
    "df.isnull().sum()"
   ]
  },
  {
   "cell_type": "code",
   "execution_count": 18,
   "metadata": {},
   "outputs": [
    {
     "data": {
      "text/plain": [
       "array(['725 Ratings', '24 Ratings', '16 Ratings', '23 Ratings',\n",
       "       '3 Ratings', '8 Ratings', '2 Ratings', '5 Ratings', '1 Ratings',\n",
       "       'No Ratings', '28 Ratings', '146 Ratings', '181 Ratings',\n",
       "       '38 Ratings', '110 Ratings', '272 Ratings', '162 Ratings',\n",
       "       '106 Ratings', '66 Ratings', '14 Ratings', '10 Ratings',\n",
       "       '6 Ratings', '345 Ratings', '344 Ratings', '206 Ratings',\n",
       "       '25 Ratings', '88 Ratings', '34 Ratings', '249 Ratings',\n",
       "       '52 Ratings', '58 Ratings'], dtype=object)"
      ]
     },
     "execution_count": 18,
     "metadata": {},
     "output_type": "execute_result"
    }
   ],
   "source": [
    "df['Number of Ratings'].unique()"
   ]
  },
  {
   "cell_type": "code",
   "execution_count": 19,
   "metadata": {},
   "outputs": [],
   "source": [
    "df['Number of Ratings'].dropna()\n",
    "df['Number of Ratings'] = df['Number of Ratings'].str.replace(' Ratings', '')\n",
    "df['Number of Ratings'] = df['Number of Ratings'].str.replace('No', '0').astype(float)\n",
    "# df['Number of Ratings'] = df['Number of Ratings'].str.replace('nan', '').astype(float)"
   ]
  },
  {
   "cell_type": "code",
   "execution_count": 20,
   "metadata": {},
   "outputs": [
    {
     "data": {
      "text/html": [
       "<div>\n",
       "<style scoped>\n",
       "    .dataframe tbody tr th:only-of-type {\n",
       "        vertical-align: middle;\n",
       "    }\n",
       "\n",
       "    .dataframe tbody tr th {\n",
       "        vertical-align: top;\n",
       "    }\n",
       "\n",
       "    .dataframe thead th {\n",
       "        text-align: right;\n",
       "    }\n",
       "</style>\n",
       "<table border=\"1\" class=\"dataframe\">\n",
       "  <thead>\n",
       "    <tr style=\"text-align: right;\">\n",
       "      <th></th>\n",
       "      <th>Product Link</th>\n",
       "      <th>Image URL</th>\n",
       "      <th>Product Name</th>\n",
       "      <th>Product Price</th>\n",
       "      <th>Rating</th>\n",
       "      <th>Number of Ratings</th>\n",
       "      <th>Specifications</th>\n",
       "    </tr>\n",
       "  </thead>\n",
       "  <tbody>\n",
       "    <tr>\n",
       "      <th>0</th>\n",
       "      <td>https://www.daraz.com.np/products/3-layer-wind...</td>\n",
       "      <td>https://img.drz.lazcdn.com/static/np/p/e860c64...</td>\n",
       "      <td>3 Layer Windproof Holofill Half Sleeves Winter...</td>\n",
       "      <td>Rs. 693</td>\n",
       "      <td>3.9</td>\n",
       "      <td>725.0</td>\n",
       "      <td>Brand: No Brand; SKU: 109697672_NP-1029711617</td>\n",
       "    </tr>\n",
       "    <tr>\n",
       "      <th>1</th>\n",
       "      <td>https://www.daraz.com.np/products/dell-vostro-...</td>\n",
       "      <td>https://img.drz.lazcdn.com/static/np/p/12f269c...</td>\n",
       "      <td>Dell Vostro 3520 i5 12th Gen | 16GB RAM | 512G...</td>\n",
       "      <td>Rs. 71,999</td>\n",
       "      <td>4.5</td>\n",
       "      <td>24.0</td>\n",
       "      <td>Brand: No Brand; SKU: 129411877_NP-1037407894;...</td>\n",
       "    </tr>\n",
       "    <tr>\n",
       "      <th>2</th>\n",
       "      <td>https://www.daraz.com.np/products/dell-vostro-...</td>\n",
       "      <td>https://img.drz.lazcdn.com/static/np/p/7cbe0fe...</td>\n",
       "      <td>Dell Vostro 3520 i3 12th Gen | 16GB RAM | 512G...</td>\n",
       "      <td>Rs. 55,999</td>\n",
       "      <td>4.8</td>\n",
       "      <td>16.0</td>\n",
       "      <td>Brand: No Brand; SKU: 129017788_NP-1037011250;...</td>\n",
       "    </tr>\n",
       "    <tr>\n",
       "      <th>3</th>\n",
       "      <td>https://www.daraz.com.np/products/dell-vostro-...</td>\n",
       "      <td>https://img.drz.lazcdn.com/static/np/p/8ea221d...</td>\n",
       "      <td>Dell Vostro 3520 I3-12th gen 8GB RAM/512GB SSD...</td>\n",
       "      <td>Rs. 58,000</td>\n",
       "      <td>4.0</td>\n",
       "      <td>24.0</td>\n",
       "      <td>Brand: No Brand; SKU: 118372728_NP-1032434216;...</td>\n",
       "    </tr>\n",
       "    <tr>\n",
       "      <th>4</th>\n",
       "      <td>https://www.daraz.com.np/products/lenovo-v15-c...</td>\n",
       "      <td>https://img.drz.lazcdn.com/static/np/p/da34576...</td>\n",
       "      <td>Lenovo V15 celeron 4GB RAM 256GB SSD,15.6 inch...</td>\n",
       "      <td>Rs. 33,998</td>\n",
       "      <td>4.4</td>\n",
       "      <td>23.0</td>\n",
       "      <td>Brand: No Brand; SKU: 117911554_NP-1032329631;...</td>\n",
       "    </tr>\n",
       "  </tbody>\n",
       "</table>\n",
       "</div>"
      ],
      "text/plain": [
       "                                        Product Link  \\\n",
       "0  https://www.daraz.com.np/products/3-layer-wind...   \n",
       "1  https://www.daraz.com.np/products/dell-vostro-...   \n",
       "2  https://www.daraz.com.np/products/dell-vostro-...   \n",
       "3  https://www.daraz.com.np/products/dell-vostro-...   \n",
       "4  https://www.daraz.com.np/products/lenovo-v15-c...   \n",
       "\n",
       "                                           Image URL  \\\n",
       "0  https://img.drz.lazcdn.com/static/np/p/e860c64...   \n",
       "1  https://img.drz.lazcdn.com/static/np/p/12f269c...   \n",
       "2  https://img.drz.lazcdn.com/static/np/p/7cbe0fe...   \n",
       "3  https://img.drz.lazcdn.com/static/np/p/8ea221d...   \n",
       "4  https://img.drz.lazcdn.com/static/np/p/da34576...   \n",
       "\n",
       "                                        Product Name Product Price  Rating  \\\n",
       "0  3 Layer Windproof Holofill Half Sleeves Winter...       Rs. 693     3.9   \n",
       "1  Dell Vostro 3520 i5 12th Gen | 16GB RAM | 512G...    Rs. 71,999     4.5   \n",
       "2  Dell Vostro 3520 i3 12th Gen | 16GB RAM | 512G...    Rs. 55,999     4.8   \n",
       "3  Dell Vostro 3520 I3-12th gen 8GB RAM/512GB SSD...    Rs. 58,000     4.0   \n",
       "4  Lenovo V15 celeron 4GB RAM 256GB SSD,15.6 inch...    Rs. 33,998     4.4   \n",
       "\n",
       "   Number of Ratings                                     Specifications  \n",
       "0              725.0      Brand: No Brand; SKU: 109697672_NP-1029711617  \n",
       "1               24.0  Brand: No Brand; SKU: 129411877_NP-1037407894;...  \n",
       "2               16.0  Brand: No Brand; SKU: 129017788_NP-1037011250;...  \n",
       "3               24.0  Brand: No Brand; SKU: 118372728_NP-1032434216;...  \n",
       "4               23.0  Brand: No Brand; SKU: 117911554_NP-1032329631;...  "
      ]
     },
     "execution_count": 20,
     "metadata": {},
     "output_type": "execute_result"
    }
   ],
   "source": [
    "df.head()"
   ]
  },
  {
   "cell_type": "code",
   "execution_count": 21,
   "metadata": {},
   "outputs": [
    {
     "name": "stdout",
     "output_type": "stream",
     "text": [
      "<class 'pandas.core.frame.DataFrame'>\n",
      "RangeIndex: 166 entries, 0 to 165\n",
      "Data columns (total 7 columns):\n",
      " #   Column             Non-Null Count  Dtype  \n",
      "---  ------             --------------  -----  \n",
      " 0   Product Link       166 non-null    object \n",
      " 1   Image URL          166 non-null    object \n",
      " 2   Product Name       166 non-null    object \n",
      " 3   Product Price      166 non-null    object \n",
      " 4   Rating             166 non-null    float64\n",
      " 5   Number of Ratings  166 non-null    float64\n",
      " 6   Specifications     123 non-null    object \n",
      "dtypes: float64(2), object(5)\n",
      "memory usage: 9.2+ KB\n"
     ]
    }
   ],
   "source": [
    "df.info()"
   ]
  },
  {
   "cell_type": "code",
   "execution_count": 22,
   "metadata": {},
   "outputs": [
    {
     "data": {
      "text/plain": [
       "Index(['Product Link', 'Image URL', 'Product Name', 'Product Price', 'Rating',\n",
       "       'Number of Ratings', 'Specifications'],\n",
       "      dtype='object')"
      ]
     },
     "execution_count": 22,
     "metadata": {},
     "output_type": "execute_result"
    }
   ],
   "source": [
    "df.columns"
   ]
  },
  {
   "cell_type": "code",
   "execution_count": 26,
   "metadata": {},
   "outputs": [],
   "source": [
    "df['Specifications'] = df['Specifications'].fillna('No specifications available')\n"
   ]
  },
  {
   "cell_type": "code",
   "execution_count": 27,
   "metadata": {},
   "outputs": [
    {
     "name": "stdout",
     "output_type": "stream",
     "text": [
      "<class 'pandas.core.frame.DataFrame'>\n",
      "RangeIndex: 166 entries, 0 to 165\n",
      "Data columns (total 7 columns):\n",
      " #   Column             Non-Null Count  Dtype  \n",
      "---  ------             --------------  -----  \n",
      " 0   Product Link       166 non-null    object \n",
      " 1   Image URL          166 non-null    object \n",
      " 2   Product Name       166 non-null    object \n",
      " 3   Product Price      166 non-null    object \n",
      " 4   Rating             166 non-null    float64\n",
      " 5   Number of Ratings  166 non-null    float64\n",
      " 6   Specifications     166 non-null    object \n",
      "dtypes: float64(2), object(5)\n",
      "memory usage: 9.2+ KB\n"
     ]
    }
   ],
   "source": [
    "df.info()"
   ]
  },
  {
   "cell_type": "code",
   "execution_count": 28,
   "metadata": {},
   "outputs": [],
   "source": [
    "df.to_csv('cleaned_products.csv', index=False)"
   ]
  },
  {
   "cell_type": "code",
   "execution_count": null,
   "metadata": {},
   "outputs": [],
   "source": []
  }
 ],
 "metadata": {
  "kernelspec": {
   "display_name": ".venv",
   "language": "python",
   "name": "python3"
  },
  "language_info": {
   "codemirror_mode": {
    "name": "ipython",
    "version": 3
   },
   "file_extension": ".py",
   "mimetype": "text/x-python",
   "name": "python",
   "nbconvert_exporter": "python",
   "pygments_lexer": "ipython3",
   "version": "3.12.4"
  }
 },
 "nbformat": 4,
 "nbformat_minor": 2
}
